{
 "cells": [
  {
   "cell_type": "markdown",
   "id": "36d77360",
   "metadata": {},
   "source": [
    "#### You can find the dataset [here](https://github.com/ADSJCET/ADL_331/blob/main/cancer.csv)"
   ]
  },
  {
   "cell_type": "code",
   "execution_count": 24,
   "id": "c4b59961",
   "metadata": {},
   "outputs": [
    {
     "name": "stdout",
     "output_type": "stream",
     "text": [
      "Enter the radius of the tumor: 25\n",
      "It is Malignant tumor\n"
     ]
    }
   ],
   "source": [
    "import numpy as np\n",
    "import pandas as pd\n",
    "from sklearn import linear_model as lm\n",
    "data = pd.read_csv('cancer.csv')\n",
    "x = np.array(data['radius_mean']).reshape(-1,1)\n",
    "y = data['diagnosis']\n",
    "model = lm.LogisticRegression()\n",
    "model.fit(x,y)\n",
    "radius = float(input(\"Enter the radius of the tumor: \"))\n",
    "prediction = model.predict(np.array(radius).reshape(-1,1))\n",
    "if prediction == 'B':\n",
    "    print(\"It is benign tumor\")\n",
    "else:\n",
    "    print(\"It is Malignant tumor\")"
   ]
  }
 ],
 "metadata": {
  "kernelspec": {
   "display_name": "Python 3 (ipykernel)",
   "language": "python",
   "name": "python3"
  },
  "language_info": {
   "codemirror_mode": {
    "name": "ipython",
    "version": 3
   },
   "file_extension": ".py",
   "mimetype": "text/x-python",
   "name": "python",
   "nbconvert_exporter": "python",
   "pygments_lexer": "ipython3",
   "version": "3.9.12"
  }
 },
 "nbformat": 4,
 "nbformat_minor": 5
}
