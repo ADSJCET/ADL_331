{
 "cells": [
  {
   "cell_type": "code",
   "execution_count": 1,
   "id": "d0bb87a3",
   "metadata": {},
   "outputs": [],
   "source": [
    "import numpy as np\n",
    "import pandas as pd\n",
    "from sklearn import linear_model as lm"
   ]
  },
  {
   "cell_type": "code",
   "execution_count": 4,
   "id": "51ab7be4",
   "metadata": {},
   "outputs": [],
   "source": [
    "data = pd.read_csv('cancer.csv')\n",
    "x = np.array(data['radius_mean']).reshape(-1,1)\n",
    "y = data['diagnosis']"
   ]
  },
  {
   "cell_type": "code",
   "execution_count": 6,
   "id": "a5d390ba",
   "metadata": {},
   "outputs": [
    {
     "data": {
      "text/plain": [
       "LogisticRegression()"
      ]
     },
     "execution_count": 6,
     "metadata": {},
     "output_type": "execute_result"
    }
   ],
   "source": [
    "model = lm.LogisticRegression()\n",
    "model.fit(x,y)"
   ]
  },
  {
   "cell_type": "code",
   "execution_count": 8,
   "id": "202511d8",
   "metadata": {},
   "outputs": [
    {
     "name": "stdout",
     "output_type": "stream",
     "text": [
      "Enter the radius of the tumor: 25\n",
      "It is Malignant tumor 💀\n"
     ]
    }
   ],
   "source": [
    "radius = float(input(\"Enter the radius of the tumor: \"))\n",
    "prediction = model.predict(np.array(radius).reshape(-1,1))\n",
    "if prediction == 'B':\n",
    "    print(\"It is benign tumor 💞 \")\n",
    "else:\n",
    "    print(\"It is Malignant tumor 💀\")"
   ]
  },
  {
   "cell_type": "code",
   "execution_count": null,
   "id": "6716e040",
   "metadata": {},
   "outputs": [],
   "source": []
  }
 ],
 "metadata": {
  "kernelspec": {
   "display_name": "Python 3 (ipykernel)",
   "language": "python",
   "name": "python3"
  },
  "language_info": {
   "codemirror_mode": {
    "name": "ipython",
    "version": 3
   },
   "file_extension": ".py",
   "mimetype": "text/x-python",
   "name": "python",
   "nbconvert_exporter": "python",
   "pygments_lexer": "ipython3",
   "version": "3.9.12"
  }
 },
 "nbformat": 4,
 "nbformat_minor": 5
}
