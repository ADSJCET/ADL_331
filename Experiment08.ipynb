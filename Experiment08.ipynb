{
 "cells": [
  {
   "cell_type": "code",
   "execution_count": 21,
   "id": "6f074d52",
   "metadata": {},
   "outputs": [
    {
     "name": "stdout",
     "output_type": "stream",
     "text": [
      "Accuracy: 96.67\n",
      "Confusion matrix:\n",
      " [[11  0  0]\n",
      " [ 0 13  0]\n",
      " [ 0  1  5]]\n",
      "Precision: 97.62\n",
      "Recall: 94.44\n",
      "FOR PREDICTION\n",
      "Enter the sepal length: 1\n",
      "Enter the sepal width: 2\n",
      "Enter the petal length: 3\n",
      "Enter the petal width: 1\n",
      "The predicted flower is Versicolor\n"
     ]
    }
   ],
   "source": [
    "from sklearn import datasets\n",
    "from sklearn.naive_bayes import GaussianNB\n",
    "from sklearn.model_selection import train_test_split\n",
    "from sklearn.metrics import precision_score,recall_score,confusion_matrix,accuracy_score\n",
    "dataset =datasets.load_iris()\n",
    "X=dataset.data\n",
    "y=dataset.target\n",
    "X_train,X_test,y_train,y_test=train_test_split(X,y,test_size=0.2,random_state=0)\n",
    "model=GaussianNB()\n",
    "model.fit(X_train,y_train)\n",
    "y_pred=model.predict(X_test)\n",
    "ac=accuracy_score(y_test,y_pred)*100\n",
    "cm=confusion_matrix(y_test,y_pred)\n",
    "print(\"Accuracy:\",round(ac,2))\n",
    "print(\"Confusion matrix:\\n\",cm)\n",
    "precision=precision_score(y_test,y_pred,average='macro')*100\n",
    "print(\"Precision:\",round(precision,2))\n",
    "recall=recall_score(y_test,y_pred,average='macro')*100\n",
    "print(\"Recall:\",round(recall,2))\n",
    "print(\"FOR PREDICTION\")\n",
    "al=[]\n",
    "al.append(float(input(\"Enter the sepal length: \")))\n",
    "al.append(float(input(\"Enter the sepal width: \")))\n",
    "al.append(float(input(\"Enter the petal length: \")))\n",
    "al.append(float(input(\"Enter the petal width: \")))\n",
    "AL=[al]\n",
    "y1_pred=model.predict(AL)\n",
    "if y1_pred[0]==0:\n",
    "    print(\"The predicted flower is Setosa\")\n",
    "elif y1_pred[0]==1:\n",
    "    print(\"The predicted flower is Versicolor\")\n",
    "else:\n",
    "    print(\"The predicted flower is Virginica\")"
   ]
  },
  {
   "cell_type": "code",
   "execution_count": null,
   "id": "3a4f7d7c",
   "metadata": {},
   "outputs": [],
   "source": []
  }
 ],
 "metadata": {
  "kernelspec": {
   "display_name": "Python 3 (ipykernel)",
   "language": "python",
   "name": "python3"
  },
  "language_info": {
   "codemirror_mode": {
    "name": "ipython",
    "version": 3
   },
   "file_extension": ".py",
   "mimetype": "text/x-python",
   "name": "python",
   "nbconvert_exporter": "python",
   "pygments_lexer": "ipython3",
   "version": "3.9.12"
  }
 },
 "nbformat": 4,
 "nbformat_minor": 5
}
