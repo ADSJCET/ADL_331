{
 "cells": [
  {
   "cell_type": "markdown",
   "id": "afb22f06",
   "metadata": {},
   "source": [
    "#### You can find the dataset [here](https://github.com/ADSJCET/ADL_331/blob/main/heart-data.csv)"
   ]
  },
  {
   "cell_type": "code",
   "execution_count": 13,
   "id": "9a3f8a69",
   "metadata": {},
   "outputs": [
    {
     "name": "stdout",
     "output_type": "stream",
     "text": [
      "Accuracy of the model:  87.04 %\n"
     ]
    }
   ],
   "source": [
    "import pandas as pd\n",
    "from sklearn.svm import SVC as svc\n",
    "from sklearn.model_selection import train_test_split as tts\n",
    "data = pd.read_csv('heart-data.csv')\n",
    "data['class'].replace(['absent','present'],[0,1],inplace=True)\n",
    "x = data.drop('class',axis=1)\n",
    "y = data['class']\n",
    "x_train, x_test, y_train, y_test = tts(x, y, test_size=0.2, random_state = 42)\n",
    "model = svc(kernel='linear').fit(x_train,y_train)\n",
    "print(\"Accuracy of the model: \",round(model.score(x_test,y_test)*100,2),\"%\")"
   ]
  }
 ],
 "metadata": {
  "kernelspec": {
   "display_name": "Python 3 (ipykernel)",
   "language": "python",
   "name": "python3"
  },
  "language_info": {
   "codemirror_mode": {
    "name": "ipython",
    "version": 3
   },
   "file_extension": ".py",
   "mimetype": "text/x-python",
   "name": "python",
   "nbconvert_exporter": "python",
   "pygments_lexer": "ipython3",
   "version": "3.9.12"
  }
 },
 "nbformat": 4,
 "nbformat_minor": 5
}
