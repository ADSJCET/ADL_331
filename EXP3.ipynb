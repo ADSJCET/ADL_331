{
 "cells": [
  {
   "cell_type": "code",
   "execution_count": 4,
   "id": "90295bc9",
   "metadata": {},
   "outputs": [],
   "source": [
    "import pandas as pd\n",
    "data = pd.read_csv('movies.csv')"
   ]
  },
  {
   "cell_type": "code",
   "execution_count": 5,
   "id": "5d2d3f3c",
   "metadata": {
    "scrolled": false
   },
   "outputs": [
    {
     "name": "stdout",
     "output_type": "stream",
     "text": [
      "                                           Movies       Earnings  Year\n",
      "0                                          Avatar  2,923,706,026  2009\n",
      "1                               Avengers: Endgame  2,797,501,328  2019\n",
      "2                        Avatar: The Way of Water  2,320,250,281  2022\n",
      "3                                         Titanic  2,257,844,554  1997\n",
      "4                    Star Wars: The Force Awakens  2,068,223,624  2015\n",
      "5                          Avengers: Infinity War  2,048,359,754  2018\n",
      "6                         Spider-Man: No Way Home  1,921,847,111  2021\n",
      "7                                  Jurassic World  1,671,537,444  2015\n",
      "8                                   The Lion King  1,656,943,394  2019\n",
      "9                                    The Avengers  1,518,815,515  2012\n",
      "10                                      Furious 7  1,515,341,399  2015\n",
      "11                              Top Gun: Maverick  1,495,696,292  2022\n",
      "12                                      Frozen II  1,450,026,933  2019\n",
      "13                                         Barbie  1,427,904,685  2023\n",
      "14                        Avengers: Age of Ultron  1,402,809,540  2015\n",
      "15                    The Super Mario Bros. Movie  1,360,740,824  2023\n",
      "16                                  Black Panther  1,347,280,838  2018\n",
      "17  Harry Potter and the Deathly Hallows – Part 2  1,342,139,727  2011\n",
      "18                       Star Wars: The Last Jedi  1,332,539,889  2017\n",
      "19                 Jurassic World: Fallen Kingdom  1,308,473,425  2018\n",
      "20                                         Frozen  1,290,000,000  2013\n"
     ]
    }
   ],
   "source": [
    "print(data)"
   ]
  },
  {
   "cell_type": "code",
   "execution_count": 8,
   "id": "5b04a2c7",
   "metadata": {
    "scrolled": false
   },
   "outputs": [
    {
     "name": "stdout",
     "output_type": "stream",
     "text": [
      "                                           Movies       Earnings  Year\n",
      "3                                         Titanic  2,257,844,554  1997\n",
      "0                                          Avatar  2,923,706,026  2009\n",
      "17  Harry Potter and the Deathly Hallows – Part 2  1,342,139,727  2011\n",
      "9                                    The Avengers  1,518,815,515  2012\n",
      "20                                         Frozen  1,290,000,000  2013\n",
      "7                                  Jurassic World  1,671,537,444  2015\n",
      "14                        Avengers: Age of Ultron  1,402,809,540  2015\n",
      "4                    Star Wars: The Force Awakens  2,068,223,624  2015\n",
      "10                                      Furious 7  1,515,341,399  2015\n",
      "18                       Star Wars: The Last Jedi  1,332,539,889  2017\n",
      "5                          Avengers: Infinity War  2,048,359,754  2018\n",
      "19                 Jurassic World: Fallen Kingdom  1,308,473,425  2018\n",
      "16                                  Black Panther  1,347,280,838  2018\n",
      "8                                   The Lion King  1,656,943,394  2019\n",
      "12                                      Frozen II  1,450,026,933  2019\n",
      "1                               Avengers: Endgame  2,797,501,328  2019\n",
      "6                         Spider-Man: No Way Home  1,921,847,111  2021\n",
      "2                        Avatar: The Way of Water  2,320,250,281  2022\n",
      "11                              Top Gun: Maverick  1,495,696,292  2022\n",
      "13                                         Barbie  1,427,904,685  2023\n",
      "15                    The Super Mario Bros. Movie  1,360,740,824  2023\n"
     ]
    }
   ],
   "source": [
    "sorted = data.sort_values(by='Year', ascending=True)\n",
    "print(sorted)"
   ]
  },
  {
   "cell_type": "code",
   "execution_count": 9,
   "id": "f09c0ffe",
   "metadata": {},
   "outputs": [
    {
     "name": "stdout",
     "output_type": "stream",
     "text": [
      "                                           Movies       Earnings  Year\n",
      "13                                         Barbie  1,427,904,685  2023\n",
      "15                    The Super Mario Bros. Movie  1,360,740,824  2023\n",
      "2                        Avatar: The Way of Water  2,320,250,281  2022\n",
      "11                              Top Gun: Maverick  1,495,696,292  2022\n",
      "6                         Spider-Man: No Way Home  1,921,847,111  2021\n",
      "8                                   The Lion King  1,656,943,394  2019\n",
      "1                               Avengers: Endgame  2,797,501,328  2019\n",
      "12                                      Frozen II  1,450,026,933  2019\n",
      "16                                  Black Panther  1,347,280,838  2018\n",
      "19                 Jurassic World: Fallen Kingdom  1,308,473,425  2018\n",
      "5                          Avengers: Infinity War  2,048,359,754  2018\n",
      "18                       Star Wars: The Last Jedi  1,332,539,889  2017\n",
      "10                                      Furious 7  1,515,341,399  2015\n",
      "4                    Star Wars: The Force Awakens  2,068,223,624  2015\n",
      "7                                  Jurassic World  1,671,537,444  2015\n",
      "14                        Avengers: Age of Ultron  1,402,809,540  2015\n",
      "20                                         Frozen  1,290,000,000  2013\n",
      "9                                    The Avengers  1,518,815,515  2012\n",
      "17  Harry Potter and the Deathly Hallows – Part 2  1,342,139,727  2011\n",
      "0                                          Avatar  2,923,706,026  2009\n",
      "3                                         Titanic  2,257,844,554  1997\n"
     ]
    }
   ],
   "source": [
    "sorted = data.sort_values(by='Year', ascending=False)\n",
    "print(sorted)"
   ]
  },
  {
   "cell_type": "code",
   "execution_count": null,
   "id": "2f4c4c2a",
   "metadata": {},
   "outputs": [],
   "source": []
  }
 ],
 "metadata": {
  "kernelspec": {
   "display_name": "Python 3 (ipykernel)",
   "language": "python",
   "name": "python3"
  },
  "language_info": {
   "codemirror_mode": {
    "name": "ipython",
    "version": 3
   },
   "file_extension": ".py",
   "mimetype": "text/x-python",
   "name": "python",
   "nbconvert_exporter": "python",
   "pygments_lexer": "ipython3",
   "version": "3.9.12"
  }
 },
 "nbformat": 4,
 "nbformat_minor": 5
}
