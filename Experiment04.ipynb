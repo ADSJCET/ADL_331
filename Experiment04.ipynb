{
 "cells": [
  {
   "cell_type": "code",
   "execution_count": 46,
   "id": "802d7b7e",
   "metadata": {},
   "outputs": [
    {
     "name": "stdout",
     "output_type": "stream",
     "text": [
      "Accuracy of the model: 100.0 %\n",
      "\n",
      "-------------------------------------------\n",
      "Actual\t\t Predicted\t Prediction\n",
      "-------------------------------------------\n",
      "versicolor  \t versicolor \t Correct\n",
      "setosa  \t setosa \t Correct\n",
      "virginica  \t virginica \t Correct\n",
      "versicolor  \t versicolor \t Correct\n",
      "versicolor  \t versicolor \t Correct\n",
      "setosa  \t setosa \t Correct\n",
      "versicolor  \t versicolor \t Correct\n",
      "virginica  \t virginica \t Correct\n",
      "versicolor  \t versicolor \t Correct\n",
      "versicolor  \t versicolor \t Correct\n",
      "virginica  \t virginica \t Correct\n",
      "setosa  \t setosa \t Correct\n",
      "setosa  \t setosa \t Correct\n",
      "setosa  \t setosa \t Correct\n",
      "setosa  \t setosa \t Correct\n",
      "versicolor  \t versicolor \t Correct\n",
      "virginica  \t virginica \t Correct\n",
      "versicolor  \t versicolor \t Correct\n",
      "versicolor  \t versicolor \t Correct\n",
      "virginica  \t virginica \t Correct\n",
      "setosa  \t setosa \t Correct\n",
      "virginica  \t virginica \t Correct\n",
      "setosa  \t setosa \t Correct\n",
      "virginica  \t virginica \t Correct\n",
      "virginica  \t virginica \t Correct\n",
      "virginica  \t virginica \t Correct\n",
      "virginica  \t virginica \t Correct\n",
      "virginica  \t virginica \t Correct\n",
      "setosa  \t setosa \t Correct\n",
      "setosa  \t setosa \t Correct\n"
     ]
    }
   ],
   "source": [
    "import sklearn as sk\n",
    "iris_data = sk.datasets.load_iris()\n",
    "data, target = iris_data.data, iris_data.target\n",
    "x_train, x_test, y_train, y_test = sk.model_selection.train_test_split(data, target, test_size=0.2, random_state = 42)\n",
    "iris_model = sk.neighbors.KNeighborsClassifier(n_neighbors=3)\n",
    "iris_model.fit(x_train, y_train)\n",
    "y_pred = iris_model.predict(x_test)\n",
    "print(\"Accuracy of the model:\",iris_model.score(x_test,y_test)*100,\"%\\n\")\n",
    "print(\"-------------------------------------------\")\n",
    "print(\"Actual\\t\\t Predicted\\t Prediction\")\n",
    "print(\"-------------------------------------------\")\n",
    "for i in range(len(x_test)):\n",
    "    if y_pred[i] == y_test[i]:\n",
    "        print(iris_data.target_names[y_test[i]],\" \\t\",iris_data.target_names[y_pred[i]],\"\\t\",\"Correct\")\n",
    "    else:\n",
    "        print(iris_data.target_names[y_test[i]],\"\\t\",iris_data.target_names[y_pred[i]],\"\\t\",\"Incorrect\")"
   ]
  },
  {
   "cell_type": "code",
   "execution_count": null,
   "id": "5f70b883",
   "metadata": {},
   "outputs": [],
   "source": []
  }
 ],
 "metadata": {
  "kernelspec": {
   "display_name": "Python 3 (ipykernel)",
   "language": "python",
   "name": "python3"
  },
  "language_info": {
   "codemirror_mode": {
    "name": "ipython",
    "version": 3
   },
   "file_extension": ".py",
   "mimetype": "text/x-python",
   "name": "python",
   "nbconvert_exporter": "python",
   "pygments_lexer": "ipython3",
   "version": "3.9.12"
  }
 },
 "nbformat": 4,
 "nbformat_minor": 5
}
