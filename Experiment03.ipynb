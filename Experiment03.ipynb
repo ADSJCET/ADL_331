{
 "cells": [
  {
   "cell_type": "markdown",
   "id": "819f3815",
   "metadata": {},
   "source": [
    "#### NOTE:\n",
    "The following code is to create the csv file and is not needed for writing to the record"
   ]
  },
  {
   "cell_type": "code",
   "execution_count": 34,
   "id": "72a6ab73",
   "metadata": {},
   "outputs": [],
   "source": [
    "import pandas as pd\n",
    "import random\n",
    "n = 10\n",
    "roll = []\n",
    "age = []\n",
    "name = ['Johny', 'Uma', 'Catherine', 'Jayashankar', 'Joe', 'Tomy', 'Sara', 'Shiv', 'Kris', 'Pratip']\n",
    "mark = []\n",
    "for i in range(n):\n",
    "    roll.append(31+i)\n",
    "    age.append(random.choice([19,20,21]))\n",
    "    mark.append(random.randint(60,100))\n",
    "dict = {\"Roll No\":roll, \"Age\":age, \"Name\":name, \"Mark\":mark}\n",
    "df = pd.DataFrame(dict)\n",
    "df.to_csv(\"students.csv\", index=False)"
   ]
  },
  {
   "cell_type": "markdown",
   "id": "0d142385",
   "metadata": {},
   "source": [
    "### The following is the code required for record"
   ]
  },
  {
   "cell_type": "code",
   "execution_count": 35,
   "id": "0c7a53fc",
   "metadata": {},
   "outputs": [
    {
     "name": "stdout",
     "output_type": "stream",
     "text": [
      "The unsorted DataFrame:\n",
      "\n",
      "         Age         Name  Mark\n",
      "Roll No                        \n",
      "31        19        Johny    95\n",
      "32        19          Uma    75\n",
      "33        19    Catherine    76\n",
      "34        20  Jayashankar    72\n",
      "35        19          Joe    68\n",
      "36        19         Tomy    90\n",
      "37        21         Sara    97\n",
      "38        20         Shiv    78\n",
      "39        20         Kris    99\n",
      "40        20       Pratip    91\n",
      "\n",
      "Dataframe sorted in ascending order with respect to mark:\n",
      "\n",
      "         Age         Name  Mark\n",
      "Roll No                        \n",
      "35        19          Joe    68\n",
      "34        20  Jayashankar    72\n",
      "32        19          Uma    75\n",
      "33        19    Catherine    76\n",
      "38        20         Shiv    78\n",
      "36        19         Tomy    90\n",
      "40        20       Pratip    91\n",
      "31        19        Johny    95\n",
      "37        21         Sara    97\n",
      "39        20         Kris    99\n",
      "\n",
      "Dataframe sorted in descending order with respect to mark:\n",
      "\n",
      "         Age         Name  Mark\n",
      "Roll No                        \n",
      "39        20         Kris    99\n",
      "37        21         Sara    97\n",
      "31        19        Johny    95\n",
      "40        20       Pratip    91\n",
      "36        19         Tomy    90\n",
      "38        20         Shiv    78\n",
      "33        19    Catherine    76\n",
      "32        19          Uma    75\n",
      "34        20  Jayashankar    72\n",
      "35        19          Joe    68\n"
     ]
    }
   ],
   "source": [
    "import pandas as pd\n",
    "data = pd.read_csv(\"students.csv\",index_col=0)\n",
    "print(\"The unsorted DataFrame:\\n\")\n",
    "print(data)\n",
    "print(\"\\nDataframe sorted in ascending order with respect to mark:\\n\")\n",
    "print(data.sort_values(\"Mark\"))\n",
    "print(\"\\nDataframe sorted in descending order with respect to mark:\\n\")\n",
    "print(data.sort_values(\"Mark\",ascending=False)"
   ]
  }
 ],
 "metadata": {
  "kernelspec": {
   "display_name": "Python 3 (ipykernel)",
   "language": "python",
   "name": "python3"
  },
  "language_info": {
   "codemirror_mode": {
    "name": "ipython",
    "version": 3
   },
   "file_extension": ".py",
   "mimetype": "text/x-python",
   "name": "python",
   "nbconvert_exporter": "python",
   "pygments_lexer": "ipython3",
   "version": "3.9.12"
  }
 },
 "nbformat": 4,
 "nbformat_minor": 5
}
