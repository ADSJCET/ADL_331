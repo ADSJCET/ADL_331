{
 "cells": [
  {
   "cell_type": "code",
   "execution_count": 7,
   "id": "62663465",
   "metadata": {},
   "outputs": [],
   "source": [
    "import numpy as np \n",
    "import pandas as pd\n",
    "import matplotlib.pyplot as plt \n",
    "import math"
   ]
  },
  {
   "cell_type": "code",
   "execution_count": 8,
   "id": "fe180ac0",
   "metadata": {},
   "outputs": [],
   "source": [
    "def accuracy_score(y_true:list, y_pred:list):\n",
    "    return round(float(sum(y_pred == y_true))/float(len(y_true)) * 100 ,2)"
   ]
  },
  {
   "cell_type": "code",
   "execution_count": 9,
   "id": "48db64c1",
   "metadata": {},
   "outputs": [],
   "source": [
    "def train_test_split(x, y, test_size = 0.25, random_state = None):\n",
    "\n",
    "       x_test = x.sample(frac = test_size, random_state = random_state)\n",
    "       y_test = y[x_test.index]\n",
    "\n",
    "       x_train = x.drop(x_test.index)\n",
    "       y_train = y.drop(y_test.index)\n",
    "\n",
    "       return x_train, x_test, y_train, y_test"
   ]
  },
  {
   "cell_type": "code",
   "execution_count": 10,
   "id": "9eef0be8",
   "metadata": {},
   "outputs": [],
   "source": [
    "def pre_processing(df):\n",
    "       x = df.drop([df.columns[-1]], axis = 1)\n",
    "       y = df[df.columns[-1]]\n",
    "       return x, y"
   ]
  },
  {
   "cell_type": "code",
   "execution_count": 11,
   "id": "7e0db821",
   "metadata": {},
   "outputs": [],
   "source": [
    "class  GaussianNB:\n",
    "       def __init__(self):\n",
    "        \n",
    "              self.features = list\n",
    "              self.likelihoods = {}\n",
    "              self.class_priors = {}\n",
    "\n",
    "              self.X_train = np.array\n",
    "              self.y_train = np.array\n",
    "              self.train_size = int\n",
    "              self.num_feats = int\n",
    "\n",
    "       def fit(self, X, y):\n",
    "\n",
    "              self.features = list(X.columns)\n",
    "              self.X_train = X\n",
    "              self.y_train = y\n",
    "              self.train_size = X.shape[0]\n",
    "              self.num_feats = X.shape[1]\n",
    "\n",
    "              for feature in self.features:\n",
    "                     self.likelihoods[feature] = {}\n",
    "\n",
    "                     for outcome in np.unique(self.y_train):\n",
    "                            self.likelihoods[feature].update({outcome:{}})\n",
    "                            self.class_priors.update({outcome: 0})\n",
    "\n",
    "\n",
    "              self._calc_class_prior()\n",
    "              self._calc_likelihoods()\n",
    "\n",
    "              # print(self.likelihoods)\n",
    "              # print(self.class_priors)\n",
    "\n",
    "       def _calc_class_prior(self):\n",
    "\n",
    "              for outcome in np.unique(self.y_train):\n",
    "                     outcome_count = sum(self.y_train == outcome)\n",
    "                     self.class_priors[outcome] = outcome_count / self.train_size\n",
    "\n",
    "       def _calc_likelihoods(self):\n",
    "              for feature in self.features:\n",
    "\n",
    "                     for outcome in np.unique(self.y_train):\n",
    "                            self.likelihoods[feature][outcome]['mean'] = self.X_train[feature][self.y_train[self.y_train == outcome].index.values.tolist()].mean()\n",
    "                            self.likelihoods[feature][outcome]['variance'] = self.X_train[feature][self.y_train[self.y_train == outcome].index.values.tolist()].var()\n",
    "\n",
    "\n",
    "       def predict(self, X):\n",
    "              results = []\n",
    "              X = np.array(X)\n",
    "\n",
    "              for query in X:\n",
    "                     probs_outcome = {}\n",
    "            \n",
    "                     for outcome in np.unique(self.y_train):\n",
    "                            prior = self.class_priors[outcome]\n",
    "                            likelihood = 1\n",
    "                            evidence_temp = 1\n",
    "\n",
    "                            for feat, feat_val in zip(self.features, query):\n",
    "                                   mean = self.likelihoods[feat][outcome]['mean']\n",
    "                                   var = self.likelihoods[feat][outcome]['variance']\n",
    "                                   likelihood *= (1/math.sqrt(2*math.pi*var)) * np.exp(-(feat_val - mean)**2 / (2*var))\n",
    "\n",
    "                            posterior_numerator = (likelihood * prior)\n",
    "                            probs_outcome[outcome] = posterior_numerator\n",
    "\n",
    "              \n",
    "                     result = max(probs_outcome, key = lambda x: probs_outcome[x])\n",
    "                     results.append(result)\n",
    "\n",
    "              return np.array(results)\n"
   ]
  },
  {
   "cell_type": "code",
   "execution_count": 17,
   "id": "f51735c7",
   "metadata": {},
   "outputs": [
    {
     "name": "stdout",
     "output_type": "stream",
     "text": [
      "\n",
      "Iris Dataset:\n",
      "Train Accuracy: 95.56\n",
      "Test Accuracy: 93.33\n"
     ]
    }
   ],
   "source": [
    "print(\"\\nIris Dataset:\")\n",
    "\n",
    "df = pd.read_csv(\"./iris.csv\")\n",
    "\n",
    "x,y  = pre_processing(df)\n",
    "\n",
    "X_train, X_test, y_train, y_test = train_test_split(x, y, test_size = 0.1, random_state = 0)\n",
    "\n",
    "gnb_clf = GaussianNB()\n",
    "gnb_clf.fit(X_train, y_train)\n",
    "\n",
    "print(\"Train Accuracy: {}\".format(accuracy_score(y_train, gnb_clf.predict(X_train))))\n",
    "print(\"Test Accuracy: {}\".format(accuracy_score(y_test, gnb_clf.predict(X_test))))\n",
    "       "
   ]
  },
  {
   "cell_type": "code",
   "execution_count": null,
   "id": "577baca1",
   "metadata": {},
   "outputs": [],
   "source": []
  }
 ],
 "metadata": {
  "kernelspec": {
   "display_name": "Python 3 (ipykernel)",
   "language": "python",
   "name": "python3"
  },
  "language_info": {
   "codemirror_mode": {
    "name": "ipython",
    "version": 3
   },
   "file_extension": ".py",
   "mimetype": "text/x-python",
   "name": "python",
   "nbconvert_exporter": "python",
   "pygments_lexer": "ipython3",
   "version": "3.9.12"
  }
 },
 "nbformat": 4,
 "nbformat_minor": 5
}
