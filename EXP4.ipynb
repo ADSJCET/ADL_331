{
 "cells": [
  {
   "cell_type": "code",
   "execution_count": 2,
   "id": "0f269746",
   "metadata": {},
   "outputs": [],
   "source": [
    "import numpy as np\n",
    "from sklearn.model_selection import train_test_split\n",
    "from sklearn.neighbors import KNeighborsClassifier\n",
    "from sklearn.metrics import accuracy_score \n",
    "\n",
    "from sklearn.datasets import load_iris"
   ]
  },
  {
   "cell_type": "code",
   "execution_count": 3,
   "id": "c6aa8ce6",
   "metadata": {},
   "outputs": [],
   "source": [
    "data = load_iris()\n",
    "x = data.data\n",
    "y = data.target"
   ]
  },
  {
   "cell_type": "code",
   "execution_count": 54,
   "id": "550ce5cf",
   "metadata": {},
   "outputs": [],
   "source": [
    "x_train, x_test, y_train, y_test = train_test_split(x,y, test_size=0.2, random_state=42)"
   ]
  },
  {
   "cell_type": "code",
   "execution_count": 55,
   "id": "0a8005da",
   "metadata": {},
   "outputs": [
    {
     "data": {
      "text/plain": [
       "KNeighborsClassifier(n_neighbors=3)"
      ]
     },
     "execution_count": 55,
     "metadata": {},
     "output_type": "execute_result"
    }
   ],
   "source": [
    "KNN = KNeighborsClassifier(n_neighbors=3)\n",
    "KNN.fit(x_train, y_train)"
   ]
  },
  {
   "cell_type": "code",
   "execution_count": 56,
   "id": "1015e855",
   "metadata": {},
   "outputs": [],
   "source": [
    "y_predict = KNN.predict(x_test)"
   ]
  },
  {
   "cell_type": "code",
   "execution_count": 57,
   "id": "b513b47e",
   "metadata": {},
   "outputs": [
    {
     "name": "stdout",
     "output_type": "stream",
     "text": [
      "Accuracy: 100.0 %\n"
     ]
    }
   ],
   "source": [
    "accuracy = accuracy_score(y_test, y_predict)\n",
    "print(\"Accuracy:\", accuracy * 100, \"%\")"
   ]
  },
  {
   "cell_type": "code",
   "execution_count": 80,
   "id": "d0cf1f0c",
   "metadata": {},
   "outputs": [
    {
     "name": "stdout",
     "output_type": "stream",
     "text": [
      "Sample  │ Actual \t│ Predicted \t \t│ Prediction \n",
      "──────────────────────────────────────────────────────────────\n",
      "1 \t│ versicolor \t│  versicolor  \t\t│  Correct ✅\n",
      "2 \t│ setosa \t│  setosa  \t\t│  Correct ✅\n",
      "3 \t│ virginica \t│  virginica  \t\t│  Correct ✅\n",
      "4 \t│ versicolor \t│  versicolor  \t\t│  Correct ✅\n",
      "5 \t│ versicolor \t│  versicolor  \t\t│  Correct ✅\n",
      "6 \t│ setosa \t│  setosa  \t\t│  Correct ✅\n",
      "7 \t│ versicolor \t│  versicolor  \t\t│  Correct ✅\n",
      "8 \t│ virginica \t│  virginica  \t\t│  Correct ✅\n",
      "9 \t│ versicolor \t│  versicolor  \t\t│  Correct ✅\n",
      "10 \t│ versicolor \t│  versicolor  \t\t│  Correct ✅\n",
      "11 \t│ virginica \t│  virginica  \t\t│  Correct ✅\n",
      "12 \t│ setosa \t│  setosa  \t\t│  Correct ✅\n",
      "13 \t│ setosa \t│  setosa  \t\t│  Correct ✅\n",
      "14 \t│ setosa \t│  setosa  \t\t│  Correct ✅\n",
      "15 \t│ setosa \t│  setosa  \t\t│  Correct ✅\n",
      "16 \t│ versicolor \t│  versicolor  \t\t│  Correct ✅\n",
      "17 \t│ virginica \t│  virginica  \t\t│  Correct ✅\n",
      "18 \t│ versicolor \t│  versicolor  \t\t│  Correct ✅\n",
      "19 \t│ versicolor \t│  versicolor  \t\t│  Correct ✅\n",
      "20 \t│ virginica \t│  virginica  \t\t│  Correct ✅\n",
      "21 \t│ setosa \t│  setosa  \t\t│  Correct ✅\n",
      "22 \t│ virginica \t│  virginica  \t\t│  Correct ✅\n",
      "23 \t│ setosa \t│  setosa  \t\t│  Correct ✅\n",
      "24 \t│ virginica \t│  virginica  \t\t│  Correct ✅\n",
      "25 \t│ virginica \t│  virginica  \t\t│  Correct ✅\n",
      "26 \t│ virginica \t│  virginica  \t\t│  Correct ✅\n",
      "27 \t│ virginica \t│  virginica  \t\t│  Correct ✅\n",
      "28 \t│ virginica \t│  virginica  \t\t│  Correct ✅\n",
      "29 \t│ setosa \t│  setosa  \t\t│  Correct ✅\n",
      "30 \t│ setosa \t│  setosa  \t\t│  Correct ✅\n"
     ]
    }
   ],
   "source": [
    "print(\"Sample\", \" │ Actual \\t│\", \"Predicted \\t\", \"\\t│ Prediction \")\n",
    "print(\"──────────────────────────────────────────────────────────────\")\n",
    "for sample in range(len(y_test)):\n",
    "    \n",
    "    predict = y_predict[sample]\n",
    "    test = y_test[sample]\n",
    "    \n",
    "    result = \" Correct ✅\" if (predict == test) else \"Incorrect❌\"\n",
    "    \n",
    "    print(sample+1, \"\\t│\", data.target_names[test], \"\\t│ \", data.target_names[predict],\" \\t\\t│\", result)"
   ]
  },
  {
   "cell_type": "code",
   "execution_count": null,
   "id": "c49e0023",
   "metadata": {},
   "outputs": [],
   "source": []
  },
  {
   "cell_type": "code",
   "execution_count": null,
   "id": "cae084dc",
   "metadata": {},
   "outputs": [],
   "source": []
  }
 ],
 "metadata": {
  "kernelspec": {
   "display_name": "Python 3 (ipykernel)",
   "language": "python",
   "name": "python3"
  },
  "language_info": {
   "codemirror_mode": {
    "name": "ipython",
    "version": 3
   },
   "file_extension": ".py",
   "mimetype": "text/x-python",
   "name": "python",
   "nbconvert_exporter": "python",
   "pygments_lexer": "ipython3",
   "version": "3.9.12"
  }
 },
 "nbformat": 4,
 "nbformat_minor": 5
}
