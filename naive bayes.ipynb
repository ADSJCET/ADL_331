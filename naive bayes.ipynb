{
 "cells": [
  {
   "cell_type": "code",
   "execution_count": 1,
   "id": "f6ed1170",
   "metadata": {},
   "outputs": [],
   "source": [
    "from sklearn import datasets as ds\n",
    "from sklearn.model_selection import train_test_split as tts"
   ]
  },
  {
   "cell_type": "code",
   "execution_count": 3,
   "id": "a740e77a",
   "metadata": {},
   "outputs": [],
   "source": [
    "def load_model():\n",
    "    iris_data = ds.load_iris()\n",
    "    data, target = iris_data.data, iris_data.target\n",
    "    return tts(data, target, test_size=0.2, random_state=42)"
   ]
  },
  {
   "cell_type": "code",
   "execution_count": 7,
   "id": "16c92144",
   "metadata": {},
   "outputs": [],
   "source": [
    "def train():\n",
    "    pass"
   ]
  },
  {
   "cell_type": "code",
   "execution_count": null,
   "id": "589e4001",
   "metadata": {},
   "outputs": [],
   "source": [
    "def predict(xtrain, ytrain, testvalue, k=3):\n",
    "    "
   ]
  },
  {
   "cell_type": "code",
   "execution_count": null,
   "id": "0e2d4f61",
   "metadata": {},
   "outputs": [],
   "source": [
    "def testmodel():\n",
    "    x_train, x_test, y_train, y_test = load_model()\n",
    "    y_pred = []\n",
    "    for i in range(len(x_test)):\n",
    "        y_pred.append(predict(x_train, y_train, x_test[i]))\n",
    "    print(\"Accuracy of the model:\",testaccuracy(y_test, y_pred)*100)\n",
    "    print(\"Enter the values for predictoion: \")\n",
    "    al=[]\n",
    "    al.append(float(input(\"Enter the sepal length: \")))\n",
    "    al.append(float(input(\"Enter the sepal width: \")))\n",
    "    al.append(float(input(\"Enter the petal length: \")))\n",
    "    al.append(float(input(\"Enter the petal width: \")))\n",
    "    y1_pred = predict(x_train,y_train,al)\n",
    "    if y1_pred==0:\n",
    "        print(\"The predicted flower is Setosa\")\n",
    "    elif y1_pred==1:\n",
    "        print(\"The predicted flower is Versicolor\")\n",
    "    else:\n",
    "        print(\"The predicted flower is Virginica\")"
   ]
  },
  {
   "cell_type": "code",
   "execution_count": null,
   "id": "1bb399d9",
   "metadata": {},
   "outputs": [],
   "source": [
    "if __name__ == \"__main__\":\n",
    "    testmodel()"
   ]
  }
 ],
 "metadata": {
  "kernelspec": {
   "display_name": "Python 3 (ipykernel)",
   "language": "python",
   "name": "python3"
  },
  "language_info": {
   "codemirror_mode": {
    "name": "ipython",
    "version": 3
   },
   "file_extension": ".py",
   "mimetype": "text/x-python",
   "name": "python",
   "nbconvert_exporter": "python",
   "pygments_lexer": "ipython3",
   "version": "3.9.12"
  }
 },
 "nbformat": 4,
 "nbformat_minor": 5
}
