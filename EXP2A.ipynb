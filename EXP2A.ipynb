{
 "cells": [
  {
   "cell_type": "code",
   "execution_count": 1,
   "id": "fb3d4cfb",
   "metadata": {},
   "outputs": [],
   "source": [
    "import numpy as np\n"
   ]
  },
  {
   "cell_type": "code",
   "execution_count": 3,
   "id": "99c25218",
   "metadata": {},
   "outputs": [
    {
     "name": "stdout",
     "output_type": "stream",
     "text": [
      "Enter no of rows 2\n",
      "Enter no of cols 2\n"
     ]
    }
   ],
   "source": [
    "a = int(input(\"Enter no of rows \"))\n",
    "b = int(input(\"Enter no of cols \"))"
   ]
  },
  {
   "cell_type": "code",
   "execution_count": 4,
   "id": "e1a879cb",
   "metadata": {},
   "outputs": [
    {
     "name": "stdout",
     "output_type": "stream",
     "text": [
      " 3\n",
      " 4\n",
      " 5\n",
      " 2\n",
      "Matrix 1 [[3, 4], [5, 2]]\n"
     ]
    }
   ],
   "source": [
    "m1 = []\n",
    "\n",
    "for i in range(0, a):\n",
    "    t = []\n",
    "    for j in range(0, b):\n",
    "        t.append(int(input(\" \")))\n",
    "        \n",
    "    m1.append(t)\n",
    "print(\"Matrix 1\", m1)"
   ]
  },
  {
   "cell_type": "code",
   "execution_count": 5,
   "id": "377d4834",
   "metadata": {},
   "outputs": [
    {
     "name": "stdout",
     "output_type": "stream",
     "text": [
      " 1\n",
      " 4\n",
      " 5\n",
      " 2\n",
      "Matrix 2 [[1, 4], [5, 2]]\n"
     ]
    }
   ],
   "source": [
    "m2 = []\n",
    "for i in range(0, a):\n",
    "    t = []\n",
    "    for j in range(0, b):\n",
    "        t.append(int(input(\" \")))\n",
    "        \n",
    "    m2.append(t)\n",
    "print(\"Matrix 2\", m2)\n"
   ]
  },
  {
   "cell_type": "code",
   "execution_count": 24,
   "id": "599414fe",
   "metadata": {},
   "outputs": [
    {
     "name": "stdout",
     "output_type": "stream",
     "text": [
      "Addition\n",
      " [[ 4  8]\n",
      " [10  4]]\n",
      "Multiplication\n",
      " [[23 20]\n",
      " [15 24]]\n",
      "Substration\n",
      " [[2 0]\n",
      " [0 0]]\n",
      "Transpose\n",
      " [[ 4 10]\n",
      " [ 8  4]]\n"
     ]
    }
   ],
   "source": [
    "m3 = np.add(m1, m2)\n",
    "m4 = np.dot(m1, m2)\n",
    "m5 = np.subtract(m1, m2)\n",
    "m6 = np.transpose(m3)\n",
    "\n",
    "print(\"Addition\\n\", m3)\n",
    "print(\"Multiplication\\n\", m4)\n",
    "print(\"Substration\\n\", m5)\n",
    "print(\"Transpose\\n\", m6)"
   ]
  },
  {
   "cell_type": "code",
   "execution_count": null,
   "id": "dc83d281",
   "metadata": {},
   "outputs": [],
   "source": []
  },
  {
   "cell_type": "code",
   "execution_count": null,
   "id": "df0144b0",
   "metadata": {},
   "outputs": [],
   "source": []
  }
 ],
 "metadata": {
  "kernelspec": {
   "display_name": "Python 3 (ipykernel)",
   "language": "python",
   "name": "python3"
  },
  "language_info": {
   "codemirror_mode": {
    "name": "ipython",
    "version": 3
   },
   "file_extension": ".py",
   "mimetype": "text/x-python",
   "name": "python",
   "nbconvert_exporter": "python",
   "pygments_lexer": "ipython3",
   "version": "3.9.12"
  }
 },
 "nbformat": 4,
 "nbformat_minor": 5
}
