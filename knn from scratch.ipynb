{
 "cells": [
  {
   "cell_type": "code",
   "execution_count": 6,
   "id": "ff658ce7",
   "metadata": {},
   "outputs": [],
   "source": [
    "import math\n",
    "import sklearn.datasets as ds\n",
    "from sklearn.model_selection import train_test_split as tts"
   ]
  },
  {
   "cell_type": "code",
   "execution_count": 2,
   "id": "9e83aa4e",
   "metadata": {},
   "outputs": [],
   "source": [
    "def load_model():\n",
    "    iris_data = ds.load_iris()\n",
    "    data, target = iris_data.data, iris_data.target\n",
    "    return tts(data, target, test_size=0.2, random_state=42)"
   ]
  },
  {
   "cell_type": "code",
   "execution_count": 3,
   "id": "569a5301",
   "metadata": {},
   "outputs": [],
   "source": [
    "def cal_euc_dist(x, y):\n",
    "    s = 0\n",
    "    for i in range(len(x)):\n",
    "        s += (x[i] - y[i]) ** 2\n",
    "    return math.sqrt(s)"
   ]
  },
  {
   "cell_type": "code",
   "execution_count": 10,
   "id": "c6844305",
   "metadata": {},
   "outputs": [],
   "source": [
    "def predict(xtrain, ytrain, testvalue, k=3):\n",
    "    alldistance = []\n",
    "    kelements = []\n",
    "    for i in range(len(xtrain)):\n",
    "        distance = cal_euc_dist(xtrain[i], testvalue)\n",
    "        alldistance.append((ytrain[i], distance))\n",
    "    sorteddistance = sorted(alldistance, key=lambda x: x[1])\n",
    "    for i in range(k):\n",
    "        kelements.append(sorteddistance[i][0])\n",
    "    return max(set(kelements), key=kelements.count)"
   ]
  },
  {
   "cell_type": "code",
   "execution_count": 14,
   "id": "394c402d",
   "metadata": {},
   "outputs": [],
   "source": [
    "def testaccuracy(ytest, ypred):\n",
    "    t = 0\n",
    "    for i in range(len(ytest)):\n",
    "        if ytest[i] == ypred[i]:\n",
    "            t += 1\n",
    "    return t / len(ytest)"
   ]
  },
  {
   "cell_type": "code",
   "execution_count": 22,
   "id": "06d83f4b",
   "metadata": {},
   "outputs": [],
   "source": [
    "def testmodel():\n",
    "    x_train, x_test, y_train, y_test = load_model()\n",
    "    y_pred = []\n",
    "    for i in range(len(x_test)):\n",
    "        y_pred.append(predict(x_train, y_train, x_test[i]))\n",
    "    print(\"Accuracy of the model:\",testaccuracy(y_test, y_pred)*100)\n",
    "    print(\"Enter the values for predictoion: \")\n",
    "    al=[]\n",
    "    al.append(float(input(\"Enter the sepal length: \")))\n",
    "    al.append(float(input(\"Enter the sepal width: \")))\n",
    "    al.append(float(input(\"Enter the petal length: \")))\n",
    "    al.append(float(input(\"Enter the petal width: \")))\n",
    "    y1_pred = predict(x_train,y_train,al)\n",
    "    if y1_pred==0:\n",
    "        print(\"The predicted flower is Setosa\")\n",
    "    elif y1_pred==1:\n",
    "        print(\"The predicted flower is Versicolor\")\n",
    "    else:\n",
    "        print(\"The predicted flower is Virginica\")"
   ]
  },
  {
   "cell_type": "code",
   "execution_count": 25,
   "id": "c66a8e90",
   "metadata": {},
   "outputs": [
    {
     "name": "stdout",
     "output_type": "stream",
     "text": [
      "Accuracy of the model: 100.0\n",
      "Enter the values for predictoion: \n",
      "Enter the sepal length: 7.1\n",
      "Enter the sepal width: 3\n",
      "Enter the petal length: 5.9\n",
      "Enter the petal width: 2.1\n",
      "The predicted flower is Virginica\n"
     ]
    }
   ],
   "source": [
    "if __name__ == \"__main__\":\n",
    "    testmodel()"
   ]
  },
  {
   "cell_type": "code",
   "execution_count": null,
   "id": "e73e1d68",
   "metadata": {},
   "outputs": [],
   "source": []
  }
 ],
 "metadata": {
  "kernelspec": {
   "display_name": "Python 3 (ipykernel)",
   "language": "python",
   "name": "python3"
  },
  "language_info": {
   "codemirror_mode": {
    "name": "ipython",
    "version": 3
   },
   "file_extension": ".py",
   "mimetype": "text/x-python",
   "name": "python",
   "nbconvert_exporter": "python",
   "pygments_lexer": "ipython3",
   "version": "3.9.12"
  }
 },
 "nbformat": 4,
 "nbformat_minor": 5
}
